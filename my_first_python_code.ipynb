{
  "nbformat": 4,
  "nbformat_minor": 0,
  "metadata": {
    "colab": {
      "provenance": [],
      "toc_visible": true,
      "authorship_tag": "ABX9TyMMU7MMduFIH8f5+0T9IdpP",
      "include_colab_link": true
    },
    "kernelspec": {
      "name": "python3",
      "display_name": "Python 3"
    },
    "language_info": {
      "name": "python"
    }
  },
  "cells": [
    {
      "cell_type": "markdown",
      "metadata": {
        "id": "view-in-github",
        "colab_type": "text"
      },
      "source": [
        "<a href=\"https://colab.research.google.com/github/WhoAreYou1224/datavis2025/blob/main/my_first_python_code.ipynb\" target=\"_parent\"><img src=\"https://colab.research.google.com/assets/colab-badge.svg\" alt=\"Open In Colab\"/></a>"
      ]
    },
    {
      "cell_type": "markdown",
      "source": [
        "Here we can write using **Markdown**\n",
        "#intro"
      ],
      "metadata": {
        "id": "px4XjvLmICNk"
      }
    },
    {
      "cell_type": "markdown",
      "source": [
        "##name"
      ],
      "metadata": {
        "id": "BqKyniAcIVb4"
      }
    },
    {
      "cell_type": "code",
      "source": [
        "print(\"Wachakorn\")"
      ],
      "metadata": {
        "colab": {
          "base_uri": "https://localhost:8080/"
        },
        "id": "HU1vBbHmIy_F",
        "outputId": "f4801d38-b0ab-455f-9d77-14a458c9a78a"
      },
      "execution_count": 1,
      "outputs": [
        {
          "output_type": "stream",
          "name": "stdout",
          "text": [
            "Wachakorn\n"
          ]
        }
      ]
    },
    {
      "cell_type": "markdown",
      "source": [
        "##surname\n"
      ],
      "metadata": {
        "id": "-7PATg81IYs5"
      }
    },
    {
      "cell_type": "code",
      "execution_count": 3,
      "metadata": {
        "colab": {
          "base_uri": "https://localhost:8080/"
        },
        "id": "l6-V50DXGFvf",
        "outputId": "7cdf042c-bf8a-4e2e-e745-26998786f397"
      },
      "outputs": [
        {
          "output_type": "stream",
          "name": "stdout",
          "text": [
            "Sookaseam\n"
          ]
        }
      ],
      "source": [
        "print('Sookaseam')"
      ]
    }
  ]
}